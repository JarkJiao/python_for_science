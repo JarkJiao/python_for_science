{
 "cells": [
  {
   "cell_type": "code",
   "execution_count": 44,
   "metadata": {
    "collapsed": false
   },
   "outputs": [],
   "source": [
    "#encoding = utf-8\n",
    "import requests\n",
    "res = requests.get('http://esf.sh.fang.com/house-a025/')\n",
    "#res.headers['content-type']\n",
    "#res.encoding = 'gbk'\n",
    "#res.text\n",
    "#res.apparent_encoding"
   ]
  },
  {
   "cell_type": "code",
   "execution_count": 45,
   "metadata": {
    "collapsed": false
   },
   "outputs": [
    {
     "name": "stdout",
     "output_type": "stream",
     "text": [
      "18号地铁口,27万婚装全送,景观楼层,一手动迁满三年,惜售 http://esf.sh.fang.com/chushou/3_284633231.htm\n",
      "==============\n",
      "古镇位置,环境优美! http://esf.sh.fang.com/chushou/3_280386947.htm\n",
      "==============\n",
      "上门实拍图片 精装修南北通两房 送产权车位 20万婚房装修 急售 http://esf.sh.fang.com/chushou/3_285308200.htm\n",
      "==============\n",
      "又好又便宜的房子哪里找?东陆新村五街坊 金桥 http://esf.sh.fang.com/chushou/3_284456096.htm\n",
      "==============\n",
      "新挂牌+临沂路地铁口+产权车位+小区中心位置+南北通透诚售 http://esf.sh.fang.com/chushou/3_284601369.htm\n",
      "==============\n",
      "建平九年制未用诚心出售,价格可谈,无抵押无贷款 http://esf.sh.fang.com/chushou/3_283375240.htm\n",
      "==============\n",
      "上海绿城3期 ,精装带地暖 ,送车位, 小区全景 的珍藏版 http://esf.sh.fang.com/chushou/3_284472957.htm\n",
      "==============\n",
      "小区中央置,得房率高,性价比很高的,房东有事急售 http://esf.sh.fang.com/chushou/3_284515170.htm\n",
      "==============\n",
      "稀缺南北板式两房 小区中心位置 房东置换急售 http://esf.sh.fang.com/chushou/3_282942955.htm\n",
      "==============\n",
      "黄金楼层黄金位置近地铁16号线房东急卖 http://esf.sh.fang.com/chushou/3_284530340.htm\n",
      "==============\n",
      "急售房!南新六村,多层2楼,精装小户型,业主急售 http://esf.sh.fang.com/chushou/3_281105177.htm\n",
      "==============\n",
      "近地铁 南北通透 无营业税 精装修 http://esf.sh.fang.com/chushou/3_284180107.htm\n",
      "==============\n",
      "镇上2房 满五年免税 精装修 刚需必看 近小上海步行街 急 http://esf.sh.fang.com/chushou/3_283920784.htm\n",
      "==============\n",
      "主营杉林新月 电梯商品房 中间位置 毛坯可随意装修 http://esf.sh.fang.com/chushou/3_283318182.htm\n",
      "==============\n",
      "不是样板房哦!30万的硬装修带地暖+出门就是8号线杨思站业主急售 http://esf.sh.fang.com/chushou/3_282845398.htm\n",
      "==============\n",
      "精装大两房,房东超诚意,价格好谈 http://esf.sh.fang.com/chushou/3_285808687.htm\n",
      "==============\n",
      "再降30万 一室一厅精装修房东诚心出售 采光超好 看房方便 http://esf.sh.fang.com/chushou/3_280223751.htm\n",
      "==============\n",
      "三期F户型!占地1061平!带室内泳池!同户型售! http://esf.sh.fang.com/chushou/10_284165133.htm\n",
      "==============\n",
      "优质房源主推:高行绿洲五期 精装修20万 保养的不错 可拎包入住 http://esf.sh.fang.com/chushou/3_284865659.htm\n",
      "==============\n",
      "黄金楼层,稀缺大三房,小区中心位置,看房有钥匙,房东出国急售 http://esf.sh.fang.com/chushou/3_284547033.htm\n",
      "==============\n",
      "上南十村 全明一房 黄金3楼 地铁6 8号线 http://esf.sh.fang.com/chushou/3_285576673.htm\n",
      "==============\n",
      "精装修拎包入住,只要125万 http://esf.sh.fang.com/chushou/3_285493688.htm\n",
      "==============\n",
      "低于市场价50万,送产权车位,送家具家电,高层景观房,随时看 http://esf.sh.fang.com/chushou/3_282408070.htm\n",
      "==============\n",
      "昱丽家园南北两房正常过户贷款小区中心位置看房有钥匙动迁免税 http://esf.sh.fang.com/chushou/3_284566779.htm\n",
      "==============\n",
      "轻松改两房 学校澧溪 近万达和地铁 满五年 看房有钥匙 http://esf.sh.fang.com/chushou/3_284477841.htm\n",
      "==============\n",
      "西门新村两房两厅居家装修交通生活方便随时看房 http://esf.sh.fang.com/chushou/3_285202257.htm\n",
      "==============\n",
      "前滩辐射区,板式南北两房,精装修小区中心位置。房东急售 http://esf.sh.fang.com/chushou/3_285182895.htm\n",
      "==============\n",
      "性价比高 商品房 经典南北户型 http://esf.sh.fang.com/chushou/3_282032156.htm\n",
      "==============\n",
      "中金海棠湾:靠河边套 一手更名 http://esf.sh.fang.com/chushou/10_283224671.htm\n",
      "==============\n",
      "可做三房。东边套房型。看房随时。 http://esf.sh.fang.com/chushou/3_282375697.htm\n",
      "==============\n"
     ]
    }
   ],
   "source": [
    "from bs4 import BeautifulSoup\n",
    "\n",
    "soup = BeautifulSoup(res.text,'html.parser')\n",
    "\n",
    "domin = 'http://esf.sh.fang.com'\n",
    "for house in soup.select('.houseList dl'):\n",
    "    title = house.select('.title')[0].text.strip()\n",
    "    url = domin + house.select('.title a')[0]['href']\n",
    "    print title,url\n",
    "    \n",
    "    print '=============='"
   ]
  },
  {
   "cell_type": "code",
   "execution_count": 46,
   "metadata": {
    "collapsed": false
   },
   "outputs": [],
   "source": [
    "import requests\n",
    "from bs4 import BeautifulSoup\n",
    "res = requests.get('http://esf.sh.fang.com/chushou/3_284633231.htm')\n",
    "soup = BeautifulSoup(res.text,'html.parser')"
   ]
  },
  {
   "cell_type": "code",
   "execution_count": 56,
   "metadata": {
    "collapsed": false
   },
   "outputs": [
    {
     "name": "stdout",
     "output_type": "stream",
     "text": [
      "{'title': u'18\\u53f7\\u5730\\u94c1\\u53e3\\uff0c27\\u4e07\\u5a5a\\u88c5\\u5168\\u9001\\uff0c\\u666f\\u89c2\\u697c\\u5c42\\uff0c\\u4e00\\u624b\\u52a8\\u8fc1\\u6ee1\\u4e09\\u5e74\\uff0c\\u60dc\\u552e'}\n"
     ]
    }
   ],
   "source": [
    "info = {}\n",
    "info['title'] = soup.select('.title h1')[0].text.strip()\n",
    "#print info"
   ]
  },
  {
   "cell_type": "code",
   "execution_count": 61,
   "metadata": {
    "collapsed": false
   },
   "outputs": [
    {
     "data": {
      "text/plain": [
       "{'price': u'450',\n",
       " 'title': u'18\\u53f7\\u5730\\u94c1\\u53e3\\uff0c27\\u4e07\\u5a5a\\u88c5\\u5168\\u9001\\uff0c\\u666f\\u89c2\\u697c\\u5c42\\uff0c\\u4e00\\u624b\\u52a8\\u8fc1\\u6ee1\\u4e09\\u5e74\\uff0c\\u60dc\\u552e'}"
      ]
     },
     "execution_count": 61,
     "metadata": {},
     "output_type": "execute_result"
    }
   ],
   "source": [
    "info['price'] = soup.select('.zongjia1 .red20b')[0].text\n",
    "#info"
   ]
  },
  {
   "cell_type": "code",
   "execution_count": 84,
   "metadata": {
    "collapsed": false
   },
   "outputs": [],
   "source": [
    "for dd in soup.select('dd'):\n",
    "    if '：'.decode('utf-8') in dd.text.strip():    \n",
    "        key,value = dd.text.strip().split(('：').decode('utf-8'))#[0].encode('utf-8')\n",
    "        info[key] = value"
   ]
  },
  {
   "cell_type": "code",
   "execution_count": 85,
   "metadata": {
    "collapsed": false
   },
   "outputs": [
    {
     "data": {
      "text/plain": [
       "{'price': u'450',\n",
       " 'title': u'18\\u53f7\\u5730\\u94c1\\u53e3\\uff0c27\\u4e07\\u5a5a\\u88c5\\u5168\\u9001\\uff0c\\u666f\\u89c2\\u697c\\u5c42\\uff0c\\u4e00\\u624b\\u52a8\\u8fc1\\u6ee1\\u4e09\\u5e74\\uff0c\\u60dc\\u552e',\n",
       " u'\\u4e13\\u4e1a\\u5ea6': u'5.0',\n",
       " u'\\u4e8c \\u624b \\u623f': u'538\\u5957',\n",
       " u'\\u4ea7\\u6743\\u6027\\u8d28': u'\\u4e2a\\u4eba\\u4ea7\\u6743',\n",
       " u'\\u4f4f\\u5b85\\u7c7b\\u522b': u'\\u666e\\u901a\\u4f4f\\u5b85',\n",
       " u'\\u53c2\\u8003\\u6708\\u4f9b': u'',\n",
       " u'\\u53c2\\u8003\\u9996\\u4ed8': u'157.5\\u4e07',\n",
       " u'\\u540c\\u6bd4\\u53bb\\u5e74': u'\\u219140.68%',\n",
       " u'\\u597d\\u8bc4\\u7387': u'100%',\n",
       " u'\\u5e74\\u4ee3': u'2014\\u5e74',\n",
       " u'\\u5efa\\u7b51\\u7c7b\\u522b': u'\\u677f\\u697c',\n",
       " u'\\u5efa\\u7b51\\u9762\\u79ef': u'94\\ufffd',\n",
       " u'\\u5f00 \\u53d1 \\u5546': u'\\u4e0a\\u6d77\\u8363\\u60e0\\u7f6e\\u4e1a\\u6709\\u9650\\u516c\\u53f8',\n",
       " u'\\u6237\\u578b': u'2\\u5ba42\\u53851\\u53a81\\u536b',\n",
       " u'\\u671d\\u5411': u'\\u5357',\n",
       " u'\\u697c\\u5c42': u'\\u4e2d\\u5c42(\\u517114\\u5c42)',\n",
       " u'\\u6ee1\\u610f\\u5ea6': u'5.0',\n",
       " u'\\u7269 \\u4e1a \\u8d39': u'1.75\\u5143/\\u5e73\\u7c73\\u30fb\\u6708',\n",
       " u'\\u7269\\u4e1a\\u516c\\u53f8': u'\\u4e0a\\u6d77\\u534e\\u57ce\\u7269\\u4e1a\\u6709\\u9650\\u516c\\u53f8',\n",
       " u'\\u7269\\u4e1a\\u7c7b\\u578b': u'\\u4f4f\\u5b85',\n",
       " u'\\u73af\\u6bd4\\u4e0a\\u6708': u'\\u21914.95%',\n",
       " u'\\u771f\\u5b9e\\u5ea6': u'5.0',\n",
       " u'\\u79df \\u623f': u'62\\u5957',\n",
       " u'\\u7ed3\\u6784': u'\\u5e73\\u5c42',\n",
       " u'\\u7eff \\u5316 \\u7387': u'45.00%',\n",
       " u'\\u88c5\\u4fee': u'\\u7cbe\\u88c5\\u4fee'}"
      ]
     },
     "execution_count": 85,
     "metadata": {},
     "output_type": "execute_result"
    }
   ],
   "source": [
    "info"
   ]
  },
  {
   "cell_type": "code",
   "execution_count": 87,
   "metadata": {
    "collapsed": true
   },
   "outputs": [],
   "source": [
    "def getHouseDetail(url):\n",
    "    info = {}\n",
    "    res = requests.get(url)\n",
    "    soup = BeautifulSoup(res.text,'html.parser')\n",
    "    info['title'] = soup.select('.title h1')[0].text.strip()\n",
    "    info['price'] = soup.select('.zongjia1 .red20b')[0].text\n",
    "    for dd in soup.select('dd'):\n",
    "        if '：'.decode('utf-8') in dd.text.strip():    \n",
    "            key,value = dd.text.strip().split(('：').decode('utf-8'))#[0].encode('utf-8')\n",
    "            info[key] = value\n",
    "    return info"
   ]
  },
  {
   "cell_type": "code",
   "execution_count": 88,
   "metadata": {
    "collapsed": false
   },
   "outputs": [
    {
     "data": {
      "text/plain": [
       "{'price': u'450',\n",
       " 'title': u'18\\u53f7\\u5730\\u94c1\\u53e3\\uff0c27\\u4e07\\u5a5a\\u88c5\\u5168\\u9001\\uff0c\\u666f\\u89c2\\u697c\\u5c42\\uff0c\\u4e00\\u624b\\u52a8\\u8fc1\\u6ee1\\u4e09\\u5e74\\uff0c\\u60dc\\u552e',\n",
       " u'\\u4e13\\u4e1a\\u5ea6': u'5.0',\n",
       " u'\\u4e8c \\u624b \\u623f': u'538\\u5957',\n",
       " u'\\u4ea7\\u6743\\u6027\\u8d28': u'\\u4e2a\\u4eba\\u4ea7\\u6743',\n",
       " u'\\u4f4f\\u5b85\\u7c7b\\u522b': u'\\u666e\\u901a\\u4f4f\\u5b85',\n",
       " u'\\u53c2\\u8003\\u6708\\u4f9b': u'',\n",
       " u'\\u53c2\\u8003\\u9996\\u4ed8': u'157.5\\u4e07',\n",
       " u'\\u540c\\u6bd4\\u53bb\\u5e74': u'\\u219140.68%',\n",
       " u'\\u597d\\u8bc4\\u7387': u'100%',\n",
       " u'\\u5e74\\u4ee3': u'2014\\u5e74',\n",
       " u'\\u5efa\\u7b51\\u7c7b\\u522b': u'\\u677f\\u697c',\n",
       " u'\\u5efa\\u7b51\\u9762\\u79ef': u'94\\ufffd',\n",
       " u'\\u5f00 \\u53d1 \\u5546': u'\\u4e0a\\u6d77\\u8363\\u60e0\\u7f6e\\u4e1a\\u6709\\u9650\\u516c\\u53f8',\n",
       " u'\\u6237\\u578b': u'2\\u5ba42\\u53851\\u53a81\\u536b',\n",
       " u'\\u671d\\u5411': u'\\u5357',\n",
       " u'\\u697c\\u5c42': u'\\u4e2d\\u5c42(\\u517114\\u5c42)',\n",
       " u'\\u6ee1\\u610f\\u5ea6': u'5.0',\n",
       " u'\\u7269 \\u4e1a \\u8d39': u'1.75\\u5143/\\u5e73\\u7c73\\u30fb\\u6708',\n",
       " u'\\u7269\\u4e1a\\u516c\\u53f8': u'\\u4e0a\\u6d77\\u534e\\u57ce\\u7269\\u4e1a\\u6709\\u9650\\u516c\\u53f8',\n",
       " u'\\u7269\\u4e1a\\u7c7b\\u578b': u'\\u4f4f\\u5b85',\n",
       " u'\\u73af\\u6bd4\\u4e0a\\u6708': u'\\u21914.95%',\n",
       " u'\\u771f\\u5b9e\\u5ea6': u'5.0',\n",
       " u'\\u79df \\u623f': u'62\\u5957',\n",
       " u'\\u7ed3\\u6784': u'\\u5e73\\u5c42',\n",
       " u'\\u7eff \\u5316 \\u7387': u'45.00%',\n",
       " u'\\u88c5\\u4fee': u'\\u7cbe\\u88c5\\u4fee'}"
      ]
     },
     "execution_count": 88,
     "metadata": {},
     "output_type": "execute_result"
    }
   ],
   "source": [
    "getHouseDetail('http://esf.sh.fang.com/chushou/3_284633231.htm')"
   ]
  },
  {
   "cell_type": "code",
   "execution_count": 89,
   "metadata": {
    "collapsed": true
   },
   "outputs": [],
   "source": [
    "import requests\n",
    "from bs4 import BeautifulSoup\n",
    "\n",
    "res = requests.get('http://esf.sh.fang.com/house-a025/')\n",
    "\n",
    "soup = BeautifulSoup(res.text,'html.parser')\n",
    "\n",
    "housearray = []\n",
    "domin = 'http://esf.sh.fang.com'\n",
    "for house in soup.select('.houseList dl'):\n",
    "    title = house.select('.title')[0].text.strip()\n",
    "    url = domin + house.select('.title a')[0]['href']\n",
    "    housearray.append(getHouseDetail(url))"
   ]
  },
  {
   "cell_type": "code",
   "execution_count": 90,
   "metadata": {
    "collapsed": false
   },
   "outputs": [
    {
     "data": {
      "text/plain": [
       "30"
      ]
     },
     "execution_count": 90,
     "metadata": {},
     "output_type": "execute_result"
    }
   ],
   "source": [
    "len(housearray)"
   ]
  },
  {
   "cell_type": "code",
   "execution_count": 94,
   "metadata": {
    "collapsed": false
   },
   "outputs": [],
   "source": [
    "import pandas\n",
    "df = pandas.DataFrame(housearray)\n",
    "df.to_excel('house_sh.xlsx')"
   ]
  },
  {
   "cell_type": "code",
   "execution_count": null,
   "metadata": {
    "collapsed": true
   },
   "outputs": [],
   "source": []
  }
 ],
 "metadata": {
  "kernelspec": {
   "display_name": "Python 2",
   "language": "python",
   "name": "python2"
  },
  "language_info": {
   "codemirror_mode": {
    "name": "ipython",
    "version": 2
   },
   "file_extension": ".py",
   "mimetype": "text/x-python",
   "name": "python",
   "nbconvert_exporter": "python",
   "pygments_lexer": "ipython2",
   "version": "2.7.13"
  }
 },
 "nbformat": 4,
 "nbformat_minor": 2
}
