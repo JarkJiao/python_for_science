{
 "cells": [
  {
   "cell_type": "markdown",
   "metadata": {},
   "source": [
    "## python IO操作与档案处理\n"
   ]
  },
  {
   "cell_type": "code",
   "execution_count": 1,
   "metadata": {
    "collapsed": true
   },
   "outputs": [],
   "source": [
    "f = open('tmp.txt','w')\n",
    "f.write('hello world')\n",
    "f.close()"
   ]
  },
  {
   "cell_type": "code",
   "execution_count": 2,
   "metadata": {
    "collapsed": true
   },
   "outputs": [],
   "source": [
    "with open('tmp.txt','w') as f:\n",
    "    f.write('hello\\nworld')"
   ]
  },
  {
   "cell_type": "code",
   "execution_count": 3,
   "metadata": {
    "collapsed": false
   },
   "outputs": [
    {
     "name": "stdout",
     "output_type": "stream",
     "text": [
      "hello\n",
      "world\n"
     ]
    }
   ],
   "source": [
    "with open('tmp.txt','r') as f:\n",
    "    print f.read()"
   ]
  },
  {
   "cell_type": "code",
   "execution_count": 4,
   "metadata": {
    "collapsed": false
   },
   "outputs": [
    {
     "name": "stdout",
     "output_type": "stream",
     "text": [
      "hello\n",
      "\n",
      "world\n"
     ]
    }
   ],
   "source": [
    "with open('tmp.txt','r') as f:\n",
    "    for line in f.readlines():\n",
    "        print line"
   ]
  },
  {
   "cell_type": "code",
   "execution_count": 5,
   "metadata": {
    "collapsed": false
   },
   "outputs": [
    {
     "name": "stdout",
     "output_type": "stream",
     "text": [
      "hello\n",
      "world\n"
     ]
    }
   ],
   "source": [
    "with open('tmp.txt','r') as f:\n",
    "    for line in f.readlines():\n",
    "        print line.strip()"
   ]
  },
  {
   "cell_type": "code",
   "execution_count": 7,
   "metadata": {
    "collapsed": true
   },
   "outputs": [],
   "source": [
    "import xml.etree.ElementTree as ET"
   ]
  },
  {
   "cell_type": "code",
   "execution_count": 8,
   "metadata": {
    "collapsed": false
   },
   "outputs": [
    {
     "name": "stdout",
     "output_type": "stream",
     "text": [
      "哈尔滨 3\n",
      "长春 3\n",
      "沈阳 7\n",
      "海口 24\n",
      "呼和浩特 5\n",
      "乌鲁木齐 2\n",
      "拉萨 5\n",
      "西宁 3\n",
      "银川 8\n",
      "兰州 9\n",
      "石家庄 11\n",
      "郑州 13\n",
      "武汉 18\n",
      "长沙 20\n",
      "济南 9\n",
      "南京 14\n",
      "合肥 15\n",
      "太原 10\n",
      "西安 13\n",
      "成都 16\n",
      "昆明 12\n",
      "贵阳 19\n",
      "杭州 15\n",
      "福州 18\n",
      "南昌 19\n",
      "广州 22\n",
      "南宁 23\n",
      "北京 13\n",
      "天津 11\n",
      "上海 14\n",
      "重庆 19\n",
      "香港 23\n",
      "澳门 22\n",
      "台北 22\n",
      "西沙 26\n",
      "南沙 27\n",
      "钓鱼岛 20\n"
     ]
    }
   ],
   "source": [
    "tree = ET.parse('weather.xml')\n",
    "root = tree.getroot()\n",
    "#root\n",
    "for city in root.iter('city'):\n",
    "    print city.get('cityname'),city.get('tem1')"
   ]
  },
  {
   "cell_type": "code",
   "execution_count": 72,
   "metadata": {
    "collapsed": false
   },
   "outputs": [],
   "source": [
    "#import sys\n",
    "#reload(sys)\n",
    "#sys.setdefaultencoding('utf-8')\n",
    "\n",
    "import requests\n",
    "newsurl = 'http://news.qq.com/'\n",
    "rest = requests.get(newsurl)\n",
    "#print rest.text"
   ]
  },
  {
   "cell_type": "code",
   "execution_count": 73,
   "metadata": {
    "collapsed": true
   },
   "outputs": [],
   "source": [
    "from bs4 import BeautifulSoup\n"
   ]
  },
  {
   "cell_type": "code",
   "execution_count": 74,
   "metadata": {
    "collapsed": false
   },
   "outputs": [],
   "source": [
    "soup = BeautifulSoup(rest.text,'html.parser')\n",
    "\n",
    "newsarray = []\n",
    "for news in soup.select('.Q-tpWrap .text'):\n",
    "    newsarray.append({'title':news.select('a')[0].text.encode('UTF-8'),'url':news.select('a')[0]['href']})\n",
    "    #print '=================='"
   ]
  },
  {
   "cell_type": "code",
   "execution_count": 75,
   "metadata": {
    "collapsed": false
   },
   "outputs": [
    {
     "data": {
      "text/plain": [
       "{'title': '\\xe4\\xba\\xba\\xe6\\xb0\\x91\\xe6\\x97\\xa5\\xe6\\x8a\\xa5\\xe8\\xaf\\x84\\xe9\\xa1\\xb9\\xe4\\xbf\\x8a\\xe6\\xb3\\xa2\\xe8\\x90\\xbd\\xe9\\xa9\\xac\\xef\\xbc\\x9a\\xe7\\x9b\\x91\\xe7\\xae\\xa1\\xe8\\x80\\x85\\xe4\\xb8\\x8d\\xe8\\x83\\xbd\\xe7\\x9b\\x91\\xe5\\xae\\x88\\xe8\\x87\\xaa\\xe7\\x9b\\x97',\n",
       " 'url': u'http://news.qq.com/a/20170410/002229.htm'}"
      ]
     },
     "execution_count": 75,
     "metadata": {},
     "output_type": "execute_result"
    }
   ],
   "source": [
    "newsarray[0]"
   ]
  },
  {
   "cell_type": "code",
   "execution_count": 76,
   "metadata": {
    "collapsed": false
   },
   "outputs": [
    {
     "data": {
      "text/html": [
       "<div>\n",
       "<table border=\"1\" class=\"dataframe\">\n",
       "  <thead>\n",
       "    <tr style=\"text-align: right;\">\n",
       "      <th></th>\n",
       "      <th>title</th>\n",
       "      <th>url</th>\n",
       "    </tr>\n",
       "  </thead>\n",
       "  <tbody>\n",
       "    <tr>\n",
       "      <th>0</th>\n",
       "      <td>人民日报评项俊波落马：监管者不能监守自盗</td>\n",
       "      <td>http://news.qq.com/a/20170410/002229.htm</td>\n",
       "    </tr>\n",
       "    <tr>\n",
       "      <th>1</th>\n",
       "      <td>特朗普对朝采取军事行动？ 美或为此付出代价</td>\n",
       "      <td>http://news.qq.com/a/20170410/001596.htm</td>\n",
       "    </tr>\n",
       "    <tr>\n",
       "      <th>2</th>\n",
       "      <td>巴西众院弹劾总统案获通过 罗塞夫政党承认落败</td>\n",
       "      <td>http://news.qq.com/a/20160418/023091.htm</td>\n",
       "    </tr>\n",
       "    <tr>\n",
       "      <th>3</th>\n",
       "      <td>埃及两教堂遭袭致44死 总统：全国进入紧急状态</td>\n",
       "      <td>http://news.qq.com/a/20170410/002004.htm</td>\n",
       "    </tr>\n",
       "    <tr>\n",
       "      <th>4</th>\n",
       "      <td>刘士余说的“铁公鸡”是谁？39家公司“一毛不拔”</td>\n",
       "      <td>http://news.qq.com/a/20170410/001621.htm</td>\n",
       "    </tr>\n",
       "    <tr>\n",
       "      <th>5</th>\n",
       "      <td>揭《人民的名义》官员原型 姐妹傍贪官是真的吗？</td>\n",
       "      <td>http://news.qq.com/a/20170410/001545.htm</td>\n",
       "    </tr>\n",
       "    <tr>\n",
       "      <th>6</th>\n",
       "      <td>探秘中国仪仗兵：“最帅天团”是怎样炼成？</td>\n",
       "      <td>http://news.qq.com/a/20170410/001216.htm</td>\n",
       "    </tr>\n",
       "    <tr>\n",
       "      <th>7</th>\n",
       "      <td>多地网约车实施办法限车籍户籍 涉违反行政许可法</td>\n",
       "      <td>http://news.qq.com/a/20170410/002417.htm</td>\n",
       "    </tr>\n",
       "    <tr>\n",
       "      <th>8</th>\n",
       "      <td>环保部：有石灰厂积尘二三十厘米 呛人睁不开眼</td>\n",
       "      <td>http://news.qq.com/a/20170410/001770.htm</td>\n",
       "    </tr>\n",
       "    <tr>\n",
       "      <th>9</th>\n",
       "      <td>珠宝劫案嫌犯双面人生：作案凶残 平日被打不还手</td>\n",
       "      <td>http://news.qq.com/a/20170410/001437.htm</td>\n",
       "    </tr>\n",
       "    <tr>\n",
       "      <th>10</th>\n",
       "      <td>蒙冤16年男子回忆申诉史：5000封申诉状后终改判</td>\n",
       "      <td>http://news.qq.com/a/20170410/000632.htm</td>\n",
       "    </tr>\n",
       "    <tr>\n",
       "      <th>11</th>\n",
       "      <td>北京：举报间谍行为最高奖50万 诬告他人受制裁</td>\n",
       "      <td>http://news.qq.com/a/20170410/000791.htm</td>\n",
       "    </tr>\n",
       "    <tr>\n",
       "      <th>12</th>\n",
       "      <td>新疆问责97名干部：村支书不敢在宗教人士面前抽烟</td>\n",
       "      <td>http://news.qq.com/a/20170410/000938.htm</td>\n",
       "    </tr>\n",
       "    <tr>\n",
       "      <th>13</th>\n",
       "      <td>河北部分机关工作人员上班浏览娱乐新闻被通报</td>\n",
       "      <td>http://news.qq.com/a/20170410/000568.htm</td>\n",
       "    </tr>\n",
       "    <tr>\n",
       "      <th>14</th>\n",
       "      <td>韩国最大机场新店招标无人问津 或因缺乏中国游客</td>\n",
       "      <td>http://news.qq.com/a/20170410/001482.htm</td>\n",
       "    </tr>\n",
       "    <tr>\n",
       "      <th>15</th>\n",
       "      <td>美国航母战斗群正驶向朝鲜半岛：回应朝鲜挑衅</td>\n",
       "      <td>http://news.qq.com/a/20170409/012672.htm</td>\n",
       "    </tr>\n",
       "    <tr>\n",
       "      <th>16</th>\n",
       "      <td>美国安委员会向特朗普提议：驻韩美军重新部署核武器</td>\n",
       "      <td>http://news.qq.com/a/20170409/012916.htm</td>\n",
       "    </tr>\n",
       "    <tr>\n",
       "      <th>17</th>\n",
       "      <td>朝鲜：美国空袭叙利亚是侵略 朝鲜不会被吓倒</td>\n",
       "      <td>http://news.qq.com/a/20170409/000748.htm</td>\n",
       "    </tr>\n",
       "    <tr>\n",
       "      <th>18</th>\n",
       "      <td>人民日报：中石油等近30家央企已制定雄安发展策划</td>\n",
       "      <td>http://news.qq.com/a/20170409/003183.htm</td>\n",
       "    </tr>\n",
       "    <tr>\n",
       "      <th>19</th>\n",
       "      <td>朴槿惠三度受讯仍否认13项指控 拘押期或延10天</td>\n",
       "      <td>http://news.qq.com/a/20170409/007320.htm</td>\n",
       "    </tr>\n",
       "    <tr>\n",
       "      <th>20</th>\n",
       "      <td>美媒：中国新航母可载36架歼15 比辽宁舰多一半</td>\n",
       "      <td>http://news.qq.com/a/20170409/009629.htm</td>\n",
       "    </tr>\n",
       "    <tr>\n",
       "      <th>21</th>\n",
       "      <td>外逃官员：异国蚊子多得惊人 几天被咬20多个包</td>\n",
       "      <td>http://news.qq.com/a/20170409/001776.htm</td>\n",
       "    </tr>\n",
       "    <tr>\n",
       "      <th>22</th>\n",
       "      <td>英媒：中国最新无人机能挂300公斤导弹连飞40小时</td>\n",
       "      <td>http://news.qq.com/a/20170409/009761.htm</td>\n",
       "    </tr>\n",
       "    <tr>\n",
       "      <th>23</th>\n",
       "      <td>国家信访局窝案：收百名信访干部贿款 隐瞒上访不报</td>\n",
       "      <td>http://news.qq.com/a/20170409/013264.htm</td>\n",
       "    </tr>\n",
       "    <tr>\n",
       "      <th>24</th>\n",
       "      <td>天津首判：以炒房为目的的购房合同无效</td>\n",
       "      <td>http://finance.qq.com/a/20170408/033136.htm</td>\n",
       "    </tr>\n",
       "    <tr>\n",
       "      <th>25</th>\n",
       "      <td>外媒：中国四大行集体“瘦身” 员工人数减少近2万</td>\n",
       "      <td>http://news.qq.com/a/20170409/008000.htm</td>\n",
       "    </tr>\n",
       "    <tr>\n",
       "      <th>26</th>\n",
       "      <td>5000元买枚五行币1年后赚400万？别再被骗了</td>\n",
       "      <td>http://news.qq.com/a/20170408/036803.htm</td>\n",
       "    </tr>\n",
       "    <tr>\n",
       "      <th>27</th>\n",
       "      <td>“尼姑结婚”视频热传 实为传销派对</td>\n",
       "      <td>http://news.qq.com/a/20170409/002459.htm</td>\n",
       "    </tr>\n",
       "    <tr>\n",
       "      <th>28</th>\n",
       "      <td>北京居庸关“花海列车”走红后屡被逼停 村民被迫封路</td>\n",
       "      <td>http://news.qq.com/a/20170409/010259.htm</td>\n",
       "    </tr>\n",
       "    <tr>\n",
       "      <th>29</th>\n",
       "      <td>调查称中国七成80后90后有房 全球比例最高</td>\n",
       "      <td>http://news.qq.com/a/20170408/032877.htm</td>\n",
       "    </tr>\n",
       "    <tr>\n",
       "      <th>30</th>\n",
       "      <td>北京医改首日：25万人次体验 看病价格降了么？</td>\n",
       "      <td>http://news.qq.com/a/20170409/001001.htm</td>\n",
       "    </tr>\n",
       "    <tr>\n",
       "      <th>31</th>\n",
       "      <td>男子因纠纷给妻灌数十粒安眠药 杀人未遂获刑4年</td>\n",
       "      <td>http://news.qq.com/a/20170409/001613.htm</td>\n",
       "    </tr>\n",
       "    <tr>\n",
       "      <th>32</th>\n",
       "      <td>拿破仑加冕之剑下周亮相故宫 系首次离开法国参展</td>\n",
       "      <td>http://news.qq.com/a/20170409/001124.htm</td>\n",
       "    </tr>\n",
       "    <tr>\n",
       "      <th>33</th>\n",
       "      <td>票房高增长光环褪去裸泳者浮出：9成圈外投资人赔钱</td>\n",
       "      <td>http://finance.qq.com/a/20170408/023366.htm</td>\n",
       "    </tr>\n",
       "    <tr>\n",
       "      <th>34</th>\n",
       "      <td>侠客岛：四川泸县中学生坠亡事件 一堂值得深思的公开课</td>\n",
       "      <td>http://news.qq.com/a/20170408/034969.htm</td>\n",
       "    </tr>\n",
       "    <tr>\n",
       "      <th>35</th>\n",
       "      <td>波兰一栋居民楼倒塌已致3人死亡 包括2名孩子</td>\n",
       "      <td>http://news.qq.com/a/20170408/036883.htm</td>\n",
       "    </tr>\n",
       "    <tr>\n",
       "      <th>36</th>\n",
       "      <td>土耳其居民与叙利亚难民发生冲突致30人受伤</td>\n",
       "      <td>http://news.qq.com/a/20170409/002300.htm</td>\n",
       "    </tr>\n",
       "    <tr>\n",
       "      <th>37</th>\n",
       "      <td>琼瑶心痛丈夫因病已记不得她：对我是酷刑</td>\n",
       "      <td>http://ent.qq.com/a/20170408/036341.htm</td>\n",
       "    </tr>\n",
       "    <tr>\n",
       "      <th>38</th>\n",
       "      <td>广东汕头一ATM机前发生持刀杀人事件 致2人遇难</td>\n",
       "      <td>http://news.qq.com/a/20170409/002116.htm</td>\n",
       "    </tr>\n",
       "    <tr>\n",
       "      <th>39</th>\n",
       "      <td>香港大学：成立调查组核实“网传港大男生欺凌视频”</td>\n",
       "      <td>http://news.qq.com/a/20170408/020401.htm</td>\n",
       "    </tr>\n",
       "    <tr>\n",
       "      <th>40</th>\n",
       "      <td>菲外交部回应总统“夺岛言论”：仍致力改善中菲关系</td>\n",
       "      <td>http://news.qq.com/a/20170408/018712.htm</td>\n",
       "    </tr>\n",
       "    <tr>\n",
       "      <th>41</th>\n",
       "      <td>“65号红通”嫌犯归案：看见警车吓得在厕所站1小时</td>\n",
       "      <td>http://news.qq.com/a/20170408/028121.htm</td>\n",
       "    </tr>\n",
       "    <tr>\n",
       "      <th>42</th>\n",
       "      <td>明十三陵石烛台被盗时监控停用 安防设施全面瘫痪</td>\n",
       "      <td>http://news.qq.com/a/20170408/021557.htm</td>\n",
       "    </tr>\n",
       "    <tr>\n",
       "      <th>43</th>\n",
       "      <td>珠海楼市调控升级：非本市居民需缴5年个税或社保</td>\n",
       "      <td>http://news.qq.com/a/20170408/020149.htm</td>\n",
       "    </tr>\n",
       "    <tr>\n",
       "      <th>44</th>\n",
       "      <td>菲律宾棉都洛省发生两次5级以上地震 马尼拉震感明显</td>\n",
       "      <td>http://news.qq.com/a/20170408/021645.htm</td>\n",
       "    </tr>\n",
       "    <tr>\n",
       "      <th>45</th>\n",
       "      <td>董明珠：很多人不知出于什么用意 老说我的手机不行</td>\n",
       "      <td>http://finance.qq.com/a/20170408/023064.htm</td>\n",
       "    </tr>\n",
       "    <tr>\n",
       "      <th>46</th>\n",
       "      <td>四川一公交站牌高达3米遭吐槽：是给姚明看的</td>\n",
       "      <td>http://news.qq.com/a/20170408/013838.htm</td>\n",
       "    </tr>\n",
       "  </tbody>\n",
       "</table>\n",
       "</div>"
      ],
      "text/plain": [
       "                         title                                          url\n",
       "0         人民日报评项俊波落马：监管者不能监守自盗     http://news.qq.com/a/20170410/002229.htm\n",
       "1        特朗普对朝采取军事行动？ 美或为此付出代价     http://news.qq.com/a/20170410/001596.htm\n",
       "2       巴西众院弹劾总统案获通过 罗塞夫政党承认落败     http://news.qq.com/a/20160418/023091.htm\n",
       "3      埃及两教堂遭袭致44死 总统：全国进入紧急状态     http://news.qq.com/a/20170410/002004.htm\n",
       "4     刘士余说的“铁公鸡”是谁？39家公司“一毛不拔”     http://news.qq.com/a/20170410/001621.htm\n",
       "5      揭《人民的名义》官员原型 姐妹傍贪官是真的吗？     http://news.qq.com/a/20170410/001545.htm\n",
       "6         探秘中国仪仗兵：“最帅天团”是怎样炼成？     http://news.qq.com/a/20170410/001216.htm\n",
       "7      多地网约车实施办法限车籍户籍 涉违反行政许可法     http://news.qq.com/a/20170410/002417.htm\n",
       "8       环保部：有石灰厂积尘二三十厘米 呛人睁不开眼     http://news.qq.com/a/20170410/001770.htm\n",
       "9      珠宝劫案嫌犯双面人生：作案凶残 平日被打不还手     http://news.qq.com/a/20170410/001437.htm\n",
       "10   蒙冤16年男子回忆申诉史：5000封申诉状后终改判     http://news.qq.com/a/20170410/000632.htm\n",
       "11     北京：举报间谍行为最高奖50万 诬告他人受制裁     http://news.qq.com/a/20170410/000791.htm\n",
       "12    新疆问责97名干部：村支书不敢在宗教人士面前抽烟     http://news.qq.com/a/20170410/000938.htm\n",
       "13       河北部分机关工作人员上班浏览娱乐新闻被通报     http://news.qq.com/a/20170410/000568.htm\n",
       "14     韩国最大机场新店招标无人问津 或因缺乏中国游客     http://news.qq.com/a/20170410/001482.htm\n",
       "15       美国航母战斗群正驶向朝鲜半岛：回应朝鲜挑衅     http://news.qq.com/a/20170409/012672.htm\n",
       "16    美国安委员会向特朗普提议：驻韩美军重新部署核武器     http://news.qq.com/a/20170409/012916.htm\n",
       "17       朝鲜：美国空袭叙利亚是侵略 朝鲜不会被吓倒     http://news.qq.com/a/20170409/000748.htm\n",
       "18    人民日报：中石油等近30家央企已制定雄安发展策划     http://news.qq.com/a/20170409/003183.htm\n",
       "19    朴槿惠三度受讯仍否认13项指控 拘押期或延10天     http://news.qq.com/a/20170409/007320.htm\n",
       "20    美媒：中国新航母可载36架歼15 比辽宁舰多一半     http://news.qq.com/a/20170409/009629.htm\n",
       "21     外逃官员：异国蚊子多得惊人 几天被咬20多个包     http://news.qq.com/a/20170409/001776.htm\n",
       "22   英媒：中国最新无人机能挂300公斤导弹连飞40小时     http://news.qq.com/a/20170409/009761.htm\n",
       "23    国家信访局窝案：收百名信访干部贿款 隐瞒上访不报     http://news.qq.com/a/20170409/013264.htm\n",
       "24          天津首判：以炒房为目的的购房合同无效  http://finance.qq.com/a/20170408/033136.htm\n",
       "25    外媒：中国四大行集体“瘦身” 员工人数减少近2万     http://news.qq.com/a/20170409/008000.htm\n",
       "26    5000元买枚五行币1年后赚400万？别再被骗了     http://news.qq.com/a/20170408/036803.htm\n",
       "27           “尼姑结婚”视频热传 实为传销派对     http://news.qq.com/a/20170409/002459.htm\n",
       "28   北京居庸关“花海列车”走红后屡被逼停 村民被迫封路     http://news.qq.com/a/20170409/010259.htm\n",
       "29      调查称中国七成80后90后有房 全球比例最高     http://news.qq.com/a/20170408/032877.htm\n",
       "30     北京医改首日：25万人次体验 看病价格降了么？     http://news.qq.com/a/20170409/001001.htm\n",
       "31     男子因纠纷给妻灌数十粒安眠药 杀人未遂获刑4年     http://news.qq.com/a/20170409/001613.htm\n",
       "32     拿破仑加冕之剑下周亮相故宫 系首次离开法国参展     http://news.qq.com/a/20170409/001124.htm\n",
       "33    票房高增长光环褪去裸泳者浮出：9成圈外投资人赔钱  http://finance.qq.com/a/20170408/023366.htm\n",
       "34  侠客岛：四川泸县中学生坠亡事件 一堂值得深思的公开课     http://news.qq.com/a/20170408/034969.htm\n",
       "35      波兰一栋居民楼倒塌已致3人死亡 包括2名孩子     http://news.qq.com/a/20170408/036883.htm\n",
       "36       土耳其居民与叙利亚难民发生冲突致30人受伤     http://news.qq.com/a/20170409/002300.htm\n",
       "37         琼瑶心痛丈夫因病已记不得她：对我是酷刑      http://ent.qq.com/a/20170408/036341.htm\n",
       "38    广东汕头一ATM机前发生持刀杀人事件 致2人遇难     http://news.qq.com/a/20170409/002116.htm\n",
       "39    香港大学：成立调查组核实“网传港大男生欺凌视频”     http://news.qq.com/a/20170408/020401.htm\n",
       "40    菲外交部回应总统“夺岛言论”：仍致力改善中菲关系     http://news.qq.com/a/20170408/018712.htm\n",
       "41   “65号红通”嫌犯归案：看见警车吓得在厕所站1小时     http://news.qq.com/a/20170408/028121.htm\n",
       "42     明十三陵石烛台被盗时监控停用 安防设施全面瘫痪     http://news.qq.com/a/20170408/021557.htm\n",
       "43     珠海楼市调控升级：非本市居民需缴5年个税或社保     http://news.qq.com/a/20170408/020149.htm\n",
       "44   菲律宾棉都洛省发生两次5级以上地震 马尼拉震感明显     http://news.qq.com/a/20170408/021645.htm\n",
       "45    董明珠：很多人不知出于什么用意 老说我的手机不行  http://finance.qq.com/a/20170408/023064.htm\n",
       "46       四川一公交站牌高达3米遭吐槽：是给姚明看的     http://news.qq.com/a/20170408/013838.htm"
      ]
     },
     "execution_count": 76,
     "metadata": {},
     "output_type": "execute_result"
    }
   ],
   "source": [
    "import pandas\n",
    "ns = pandas.DataFrame(newsarray)\n",
    "ns"
   ]
  },
  {
   "cell_type": "code",
   "execution_count": 77,
   "metadata": {
    "collapsed": false
   },
   "outputs": [],
   "source": [
    "#coding=utf-8\n",
    "ns.to_excel('news.xlsx')"
   ]
  },
  {
   "cell_type": "code",
   "execution_count": 78,
   "metadata": {
    "collapsed": true
   },
   "outputs": [],
   "source": [
    "import requests\n",
    "from bs4 import BeautifulSoup\n",
    "newsurl = 'http://news.qq.com/'\n",
    "rest = requests.get(newsurl)\n",
    "#print rest.text\n",
    "\n",
    "soup = BeautifulSoup(rest.text,'html.parser')\n",
    "\n",
    "newsarray = []\n",
    "for news in soup.select('.Q-tpWrap .text'):\n",
    "    newsarray.append({'title':news.select('a')[0].text.encode('UTF-8'),'url':news.select('a')[0]['href']})\n",
    "    #print '=================='\n",
    "    \n",
    "import pandas\n",
    "ns = pandas.DataFrame(newsarray)\n",
    "#ns\n",
    "\n",
    "#coding=utf-8\n",
    "ns.to_excel('news.xlsx')"
   ]
  },
  {
   "cell_type": "code",
   "execution_count": null,
   "metadata": {
    "collapsed": true
   },
   "outputs": [],
   "source": []
  }
 ],
 "metadata": {
  "kernelspec": {
   "display_name": "Python 2",
   "language": "python",
   "name": "python2"
  },
  "language_info": {
   "codemirror_mode": {
    "name": "ipython",
    "version": 2
   },
   "file_extension": ".py",
   "mimetype": "text/x-python",
   "name": "python",
   "nbconvert_exporter": "python",
   "pygments_lexer": "ipython2",
   "version": "2.7.13"
  }
 },
 "nbformat": 4,
 "nbformat_minor": 2
}
